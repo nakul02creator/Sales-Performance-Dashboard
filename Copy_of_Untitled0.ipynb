{
  "nbformat": 4,
  "nbformat_minor": 0,
  "metadata": {
    "colab": {
      "provenance": []
    },
    "kernelspec": {
      "name": "python3",
      "display_name": "Python 3"
    },
    "language_info": {
      "name": "python"
    }
  },
  "cells": [
    {
      "cell_type": "code",
      "execution_count": null,
      "metadata": {
        "colab": {
          "base_uri": "https://localhost:8080/",
          "height": 36
        },
        "id": "untnHCn9HShj",
        "outputId": "fce739c4-6c8c-41f9-d0ef-788ffcfd66e0"
      },
      "outputs": [
        {
          "output_type": "execute_result",
          "data": {
            "text/plain": [
              "'/mnt/data/sales_performance_data.csv'"
            ],
            "application/vnd.google.colaboratory.intrinsic+json": {
              "type": "string"
            }
          },
          "metadata": {},
          "execution_count": 2
        }
      ],
      "source": [
        "import pandas as pd\n",
        "import random\n",
        "from datetime import datetime, timedelta\n",
        "\n",
        "# Set up categories and products\n",
        "categories = {\n",
        "    'Electronics': ['Wireless Mouse', 'Headphones', 'Keyboard'],\n",
        "    'Apparel': ['T-Shirt', 'Sneakers', 'Jacket'],\n",
        "    'Grocery': ['Milk', 'Eggs', 'Bread']\n",
        "}\n",
        "\n",
        "regions = ['North', 'South', 'East', 'West']\n",
        "\n",
        "# Generate 15 rows\n",
        "rows = []\n",
        "start_date = datetime(2024, 1, 1)\n",
        "\n",
        "for i in range(1, 16):\n",
        "    category = random.choice(list(categories.keys()))\n",
        "    product = random.choice(categories[category])\n",
        "    units_sold = random.randint(1, 10)\n",
        "    unit_price = random.randint(5, 100)\n",
        "    revenue = units_sold * unit_price\n",
        "    region = random.choice(regions)\n",
        "    date = start_date + timedelta(days=random.randint(0, 60))\n",
        "\n",
        "    rows.append({\n",
        "        'OrderID': i,\n",
        "        'Date': date.strftime('%Y-%m-%d'),\n",
        "        'Product': product,\n",
        "        'Category': category,\n",
        "        'Units Sold': units_sold,\n",
        "        'Unit Price': unit_price,\n",
        "        'Revenue': revenue,\n",
        "        'Region': region\n",
        "    })\n",
        "\n",
        "df = pd.DataFrame(rows)\n",
        "\n",
        "\n",
        "output_path\n"
      ]
    }
  ]
}